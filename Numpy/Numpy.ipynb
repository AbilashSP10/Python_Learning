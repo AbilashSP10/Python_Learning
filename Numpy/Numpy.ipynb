{
 "cells": [
  {
   "cell_type": "code",
   "execution_count": 1,
   "id": "bfd84e0a",
   "metadata": {},
   "outputs": [],
   "source": [
    "import numpy as np"
   ]
  },
  {
   "cell_type": "code",
   "execution_count": 2,
   "id": "0d5f0e83",
   "metadata": {},
   "outputs": [
    {
     "name": "stdout",
     "output_type": "stream",
     "text": [
      "0\n"
     ]
    }
   ],
   "source": [
    "df = np.array(43)\n",
    "\n",
    "print(df.ndim)"
   ]
  },
  {
   "cell_type": "code",
   "execution_count": 3,
   "id": "1fda0b4d",
   "metadata": {},
   "outputs": [
    {
     "name": "stdout",
     "output_type": "stream",
     "text": [
      "1\n"
     ]
    }
   ],
   "source": [
    "df = np.array([43,45])\n",
    "print(df.ndim)"
   ]
  },
  {
   "cell_type": "code",
   "execution_count": 4,
   "id": "9c9e086c",
   "metadata": {},
   "outputs": [
    {
     "name": "stdout",
     "output_type": "stream",
     "text": [
      "2\n"
     ]
    }
   ],
   "source": [
    "df  = np.array([[1,2,3],[1,4,5],[7,8,9]])\n",
    "print(df.ndim)"
   ]
  },
  {
   "cell_type": "markdown",
   "id": "af7ad555",
   "metadata": {},
   "source": [
    "The total opening [ brackets before any value appears is the total dimension of the array"
   ]
  },
  {
   "cell_type": "code",
   "execution_count": 5,
   "id": "b9282581",
   "metadata": {},
   "outputs": [
    {
     "name": "stdout",
     "output_type": "stream",
     "text": [
      "4\n"
     ]
    }
   ],
   "source": [
    "df = np.array([[[[45],[46],[47]]]])\n",
    "print(df.ndim)"
   ]
  },
  {
   "cell_type": "markdown",
   "id": "f0e59302",
   "metadata": {},
   "source": [
    "ndmin is used to change the dimension of an array"
   ]
  },
  {
   "cell_type": "code",
   "execution_count": 6,
   "id": "ddea256b",
   "metadata": {},
   "outputs": [
    {
     "name": "stdout",
     "output_type": "stream",
     "text": [
      "[[[[[[[[[[[[[[[32  2 45]\n",
      "              [54  3 23]]]]]]]]]]]]]]]\n"
     ]
    },
    {
     "data": {
      "text/plain": [
       "15"
      ]
     },
     "execution_count": 6,
     "metadata": {},
     "output_type": "execute_result"
    }
   ],
   "source": [
    "x = [[32,2,45], [54,3,23]]\n",
    "y = np.array(x, ndmin=15)\n",
    "\n",
    "print(y)\n",
    "\n",
    "y.ndim"
   ]
  },
  {
   "cell_type": "code",
   "execution_count": 7,
   "id": "2fc1bc93",
   "metadata": {},
   "outputs": [
    {
     "name": "stdout",
     "output_type": "stream",
     "text": [
      "hello 26\n"
     ]
    }
   ],
   "source": [
    "x  = np.array(['hello ', 26, 'world'])\n",
    "\n",
    "print(x[0] + x[1])"
   ]
  },
  {
   "cell_type": "code",
   "execution_count": 8,
   "id": "fdb89baa",
   "metadata": {},
   "outputs": [
    {
     "name": "stdout",
     "output_type": "stream",
     "text": [
      "76\n"
     ]
    }
   ],
   "source": [
    "x = [[23,44,2],[34,12,76]]\n",
    "\n",
    "y =np.array(x)\n",
    "\n",
    "print(y[1,2])"
   ]
  },
  {
   "cell_type": "code",
   "execution_count": 9,
   "id": "b3ba6bda",
   "metadata": {},
   "outputs": [
    {
     "name": "stdout",
     "output_type": "stream",
     "text": [
      "87\n"
     ]
    }
   ],
   "source": [
    "y =np.array([[[[23,34,2],[34,12,76],[78,45,65],[90,43,87]]]])\n",
    "\n",
    "print(y[0,0,3, 2])"
   ]
  },
  {
   "cell_type": "code",
   "execution_count": 10,
   "id": "445dc8c4",
   "metadata": {},
   "outputs": [
    {
     "name": "stdout",
     "output_type": "stream",
     "text": [
      "87\n",
      "9\n"
     ]
    }
   ],
   "source": [
    "y =np.array([[[[[[[[[23,34,2]]],[[[34,12,76]]],[[[78,45,65]]],[[[90,43,87]]]]]]]]])\n",
    "\n",
    "print(y[0,0,0,0,0,3,0,0,2])\n",
    "\n",
    "print(y.ndim)\n"
   ]
  },
  {
   "cell_type": "code",
   "execution_count": 11,
   "id": "193650d8",
   "metadata": {},
   "outputs": [
    {
     "name": "stdout",
     "output_type": "stream",
     "text": [
      "hell world\n"
     ]
    }
   ],
   "source": [
    "x = (\"hello world\")\n",
    "\n",
    "df  = len(x)\n",
    "\n",
    "print(x[0:4], x[6:df])\n"
   ]
  },
  {
   "cell_type": "code",
   "execution_count": 12,
   "id": "f560c685",
   "metadata": {},
   "outputs": [
    {
     "name": "stdout",
     "output_type": "stream",
     "text": [
      "[24]\n"
     ]
    }
   ],
   "source": [
    "df  = np.array([23,34,12,24,45])\n",
    "\n",
    "print(df[3:4])"
   ]
  },
  {
   "cell_type": "code",
   "execution_count": 13,
   "id": "2ac77c10",
   "metadata": {},
   "outputs": [
    {
     "name": "stdout",
     "output_type": "stream",
     "text": [
      "[34 12 24]\n"
     ]
    }
   ],
   "source": [
    "df  = np.array([23,34,12,24,45,78,44])\n",
    "\n",
    "print(df[1:4:1]) #Start Stop Step"
   ]
  },
  {
   "cell_type": "code",
   "execution_count": 14,
   "id": "c8a2fc11",
   "metadata": {},
   "outputs": [
    {
     "name": "stdout",
     "output_type": "stream",
     "text": [
      "1\n",
      "3\n",
      "5\n",
      "7\n",
      "9\n"
     ]
    }
   ],
   "source": [
    "for i in range(1,11,2):\n",
    "    print(i)"
   ]
  },
  {
   "cell_type": "code",
   "execution_count": 15,
   "id": "210e6655",
   "metadata": {},
   "outputs": [
    {
     "name": "stdout",
     "output_type": "stream",
     "text": [
      "[11 12 13]\n"
     ]
    }
   ],
   "source": [
    "df = np.array([[23,34,12,24,45],[1,2,3,4,5],[10,11,12,13,14]])\n",
    "\n",
    "# df[2,1:4]\n",
    "\n",
    "print(df[2,1:4])"
   ]
  },
  {
   "cell_type": "code",
   "execution_count": 16,
   "id": "e9f52953",
   "metadata": {},
   "outputs": [
    {
     "name": "stdout",
     "output_type": "stream",
     "text": [
      "[10 13]\n"
     ]
    }
   ],
   "source": [
    "df = np.array([[23,34,12,24,45],[1,2,3,4,5],[10,11,12,13,14]])\n",
    "\n",
    "print(df[2,::3])"
   ]
  },
  {
   "cell_type": "code",
   "execution_count": 17,
   "id": "5b889ea9",
   "metadata": {},
   "outputs": [
    {
     "name": "stdout",
     "output_type": "stream",
     "text": [
      "[[ 1  2  3  4  5]\n",
      " [10 11 12 13 14]]\n"
     ]
    }
   ],
   "source": [
    "df = np.array([[23,34,12,24,45],[1,2,3,4,5],[10,11,12,13,14]])\n",
    "\n",
    "print(df[1::1])"
   ]
  },
  {
   "cell_type": "code",
   "execution_count": 18,
   "id": "5366392a",
   "metadata": {},
   "outputs": [
    {
     "name": "stdout",
     "output_type": "stream",
     "text": [
      "[[23 34]\n",
      " [ 1  2]]\n"
     ]
    }
   ],
   "source": [
    "df = np.array([[23,34,12,24,45],\n",
    "               [1,2,3,4,5],\n",
    "               [7,23,45,23,47]])\n",
    "\n",
    "print(df[0:2,0:2]) #array slicing method"
   ]
  },
  {
   "cell_type": "code",
   "execution_count": 19,
   "id": "c8ae9e1d",
   "metadata": {},
   "outputs": [
    {
     "name": "stdout",
     "output_type": "stream",
     "text": [
      "[42  2  3  4  5]\n",
      "[1 2 3 4 5]\n",
      "[42  2  3  4  5]\n"
     ]
    }
   ],
   "source": [
    "arr = np.array([1,2,3,4,5])\n",
    "\n",
    "x = arr.copy()\n",
    "y = arr.view()\n",
    "\n",
    "arr[0] = 42\n",
    "\n",
    "print(arr)\n",
    "print(x)\n",
    "print(y)"
   ]
  },
  {
   "cell_type": "code",
   "execution_count": 20,
   "id": "344a1da2",
   "metadata": {},
   "outputs": [
    {
     "name": "stdout",
     "output_type": "stream",
     "text": [
      "1\n",
      "2\n",
      "3\n",
      "4\n",
      "5\n"
     ]
    }
   ],
   "source": [
    "x = np.array([[[1,2,3,4,5]]])\n",
    "\n",
    "for i in x:\n",
    "    for j in i:\n",
    "        for k in j:\n",
    "            print(k)\n"
   ]
  },
  {
   "cell_type": "code",
   "execution_count": 21,
   "id": "2caf7cc6",
   "metadata": {},
   "outputs": [
    {
     "name": "stdout",
     "output_type": "stream",
     "text": [
      "(3, 5)\n"
     ]
    }
   ],
   "source": [
    "df = np.array([[23,34,12,24,45],[1,2,3,4,5],[10,11,12,13,14]])\n",
    "\n",
    "print(df.shape)"
   ]
  },
  {
   "cell_type": "code",
   "execution_count": 22,
   "id": "f285ae75",
   "metadata": {},
   "outputs": [
    {
     "data": {
      "text/plain": [
       "array([[ 1,  2,  3],\n",
       "       [ 4,  5,  6],\n",
       "       [ 7,  8,  9],\n",
       "       [10, 11, 12]])"
      ]
     },
     "execution_count": 22,
     "metadata": {},
     "output_type": "execute_result"
    }
   ],
   "source": [
    "df = np.array([1,2,3,4,5,6,7,8,9,10,11,12])\n",
    "\n",
    "newarr=df.reshape(4,3)\n",
    "\n",
    "newarr"
   ]
  },
  {
   "cell_type": "code",
   "execution_count": 23,
   "id": "4ee6d723",
   "metadata": {},
   "outputs": [
    {
     "name": "stdout",
     "output_type": "stream",
     "text": [
      "[ 1  2  3  4  5  6  7  8  9 10 11 12]\n"
     ]
    },
    {
     "data": {
      "text/plain": [
       "array([[[ 1,  2],\n",
       "        [ 3,  4]],\n",
       "\n",
       "       [[ 5,  6],\n",
       "        [ 7,  8]],\n",
       "\n",
       "       [[ 9, 10],\n",
       "        [11, 12]]])"
      ]
     },
     "execution_count": 23,
     "metadata": {},
     "output_type": "execute_result"
    }
   ],
   "source": [
    "df = np.array([1,2,3,4,5,6,7,8,9,10,11,12])\n",
    "\n",
    "\n",
    "newarr=df.reshape(3, 2, 2)\n",
    "\n",
    "print(newarr.reshape(-1))\n",
    "\n",
    "newarr"
   ]
  },
  {
   "cell_type": "code",
   "execution_count": 24,
   "id": "e3e72734",
   "metadata": {},
   "outputs": [
    {
     "name": "stdout",
     "output_type": "stream",
     "text": [
      "23\n",
      "34\n",
      "12\n",
      "24\n",
      "45\n",
      "1\n",
      "2\n",
      "3\n",
      "4\n",
      "5\n",
      "10\n",
      "11\n",
      "12\n",
      "13\n",
      "14\n"
     ]
    }
   ],
   "source": [
    "arr = np.array([[23,34,12,24,45],[1,2,3,4,5],[10,11,12,13,14]])\n",
    "\n",
    "for i in np.nditer(arr):\n",
    "    print(i)"
   ]
  },
  {
   "cell_type": "code",
   "execution_count": 32,
   "id": "540c452f",
   "metadata": {},
   "outputs": [
    {
     "name": "stdout",
     "output_type": "stream",
     "text": [
      "23.0\n",
      "34.0\n",
      "12.0\n",
      "24.0\n",
      "45.0\n",
      "1.0\n",
      "2.0\n",
      "3.0\n",
      "4.0\n",
      "5.0\n",
      "10.0\n",
      "11.0\n",
      "12.0\n",
      "13.0\n",
      "14.0\n",
      "(23+0j)\n",
      "(34+0j)\n",
      "(12+0j)\n",
      "(24+0j)\n",
      "(45+0j)\n",
      "(1+0j)\n",
      "(2+0j)\n",
      "(3+0j)\n",
      "(4+0j)\n",
      "(5+0j)\n",
      "(10+0j)\n",
      "(11+0j)\n",
      "(12+0j)\n",
      "(13+0j)\n",
      "(14+0j)\n",
      "np.bytes_(b'23')\n",
      "np.bytes_(b'34')\n",
      "np.bytes_(b'12')\n",
      "np.bytes_(b'24')\n",
      "np.bytes_(b'45')\n",
      "np.bytes_(b'1')\n",
      "np.bytes_(b'2')\n",
      "np.bytes_(b'3')\n",
      "np.bytes_(b'4')\n",
      "np.bytes_(b'5')\n",
      "np.bytes_(b'10')\n",
      "np.bytes_(b'11')\n",
      "np.bytes_(b'12')\n",
      "np.bytes_(b'13')\n",
      "np.bytes_(b'14')\n"
     ]
    }
   ],
   "source": [
    "a = np.array([[23,34,12,24,45],[1,2,3,4,5],[10,11,12,13,14]])\n",
    "# it = np.nditer(a, flags=['external_loop','buffered'],op_dtypes=['float'])\n",
    "\n",
    "it = np.nditer(a, flags=['zerosize_ok','buffered'],op_dtypes=['float'])\n",
    "\n",
    "for x in it:\n",
    "    # print(f\"Value: {x}, Index: {it.multi_index}\")\n",
    "    print(x)\n",
    "\n",
    "for y in np.nditer(a, flags=['buffered'], op_dtypes=['complex128']):\n",
    "    print(y)\n",
    "\n",
    "for m in np.nditer(a, flags=['buffered'], op_dtypes=['S']):\n",
    "    print(m)"
   ]
  },
  {
   "cell_type": "code",
   "execution_count": 48,
   "id": "843d0925",
   "metadata": {},
   "outputs": [
    {
     "name": "stdout",
     "output_type": "stream",
     "text": [
      "[23 34 12 24 45  1  2  3  4  5 10 11 12 13 14]\n",
      "[12  2 13]\n"
     ]
    }
   ],
   "source": [
    "arr1=[23,34,12,24,45]\n",
    "arr2=[1,2,3,4,5]\n",
    "arr3=[10,11,12,13,14]\n",
    "\n",
    "\n",
    "x = np.concatenate((arr1,arr2,arr3))\n",
    "\n",
    "print(x)\n",
    "\n",
    "a1=[arr1[2]]\n",
    "a2=[arr2[1]]\n",
    "a3=[arr3[3]]\n",
    "\n",
    "# a4=[a1]\n",
    "# a5=[a2]\n",
    "# a6=[a3]\n",
    "\n",
    "\n",
    "y = np.concatenate([a1,a2,a3])\n",
    "\n",
    "print(y)"
   ]
  },
  {
   "cell_type": "code",
   "execution_count": 50,
   "id": "33455ae6",
   "metadata": {},
   "outputs": [
    {
     "name": "stdout",
     "output_type": "stream",
     "text": [
      "[[23 34]\n",
      " [12 24]\n",
      " [ 1  2]\n",
      " [ 3  4]\n",
      " [10 11]\n",
      " [12 13]]\n"
     ]
    }
   ],
   "source": [
    "arr1=np.array([[23,34],[12,24]])\n",
    "arr2=np.array([[1,2], [3,4]])\n",
    "arr3=np.array([[10,11], [12,13]])\n",
    "\n",
    "x  = np.concatenate((arr1,arr2,arr3))\n",
    "\n",
    "print(x)"
   ]
  },
  {
   "cell_type": "code",
   "execution_count": 52,
   "id": "d58bab71",
   "metadata": {},
   "outputs": [
    {
     "name": "stdout",
     "output_type": "stream",
     "text": [
      "[[23 34  1  2 10 11]\n",
      " [12 24  3  4 12 13]]\n"
     ]
    }
   ],
   "source": [
    "arr1=np.array([[23,34],[12,24]])\n",
    "arr2=np.array([[1,2], [3,4]])\n",
    "arr3=np.array([[10,11], [12,13]])\n",
    "\n",
    "x  = np.concatenate((arr1,arr2,arr3),axis=1)\n",
    "\n",
    "print(x)"
   ]
  },
  {
   "cell_type": "code",
   "execution_count": 54,
   "id": "51fa6f06",
   "metadata": {},
   "outputs": [
    {
     "name": "stdout",
     "output_type": "stream",
     "text": [
      "[[[23 34]\n",
      "  [ 1  2]\n",
      "  [10 11]]\n",
      "\n",
      " [[12 24]\n",
      "  [ 3  4]\n",
      "  [12 13]]]\n"
     ]
    }
   ],
   "source": [
    "arr1=np.array([[23,34],[12,24]])\n",
    "arr2=np.array([[1,2], [3,4]])\n",
    "arr3=np.array([[10,11], [12,13]])\n",
    "\n",
    "x  = np.stack((arr1,arr2,arr3),axis=1)\n",
    "\n",
    "print(x)"
   ]
  },
  {
   "cell_type": "code",
   "execution_count": 56,
   "id": "060f6442",
   "metadata": {},
   "outputs": [
    {
     "name": "stdout",
     "output_type": "stream",
     "text": [
      "[[23 34  1  2 10 11]\n",
      " [12 24  3  4 12 13]]\n"
     ]
    }
   ],
   "source": [
    "arr1=np.array([[23,34],[12,24]])\n",
    "arr2=np.array([[1,2], [3,4]])\n",
    "arr3=np.array([[10,11], [12,13]])\n",
    "\n",
    "x  = np.hstack((arr1,arr2,arr3))#Same as axis=0\n",
    "\n",
    "print(x)"
   ]
  },
  {
   "cell_type": "code",
   "execution_count": 58,
   "id": "b116b759",
   "metadata": {},
   "outputs": [
    {
     "name": "stdout",
     "output_type": "stream",
     "text": [
      "[[23 34]\n",
      " [12 24]\n",
      " [ 1  2]\n",
      " [ 3  4]\n",
      " [10 11]\n",
      " [12 13]]\n"
     ]
    }
   ],
   "source": [
    "arr1=np.array([[23,34],[12,24]])\n",
    "arr2=np.array([[1,2], [3,4]])\n",
    "arr3=np.array([[10,11], [12,13]])\n",
    "\n",
    "x  = np.vstack((arr1,arr2,arr3))#Same as axis=1\n",
    "\n",
    "print(x)"
   ]
  },
  {
   "cell_type": "code",
   "execution_count": 60,
   "id": "98c5755a",
   "metadata": {},
   "outputs": [
    {
     "name": "stdout",
     "output_type": "stream",
     "text": [
      "[[[23  1 10]\n",
      "  [34  2 11]]\n",
      "\n",
      " [[12  3 12]\n",
      "  [24  4 13]]]\n"
     ]
    }
   ],
   "source": [
    "arr1=np.array([[23,34],[12,24]])\n",
    "arr2=np.array([[1,2], [3,4]])\n",
    "arr3=np.array([[10,11], [12,13]])\n",
    "\n",
    "x  = np.dstack((arr1,arr2,arr3))\n",
    "\n",
    "print(x)"
   ]
  },
  {
   "cell_type": "code",
   "execution_count": 66,
   "id": "e2c3bb3f",
   "metadata": {},
   "outputs": [
    {
     "name": "stdout",
     "output_type": "stream",
     "text": [
      "[array([1, 2, 3]), array([4, 5]), array([6, 7]), array([8, 9])]\n",
      "[1 2 3]\n",
      "[4 5]\n",
      "[6 7]\n",
      "[8 9]\n"
     ]
    }
   ],
   "source": [
    "arr = np.array([1,2,3,4,5,6,7,8,9])\n",
    "\n",
    "x  = np.array_split(arr,4)\n",
    "\n",
    "print(x)\n",
    "\n",
    "for i in x:\n",
    "    print(i)\n"
   ]
  },
  {
   "cell_type": "code",
   "execution_count": 73,
   "id": "b64a82f2",
   "metadata": {},
   "outputs": [
    {
     "name": "stdout",
     "output_type": "stream",
     "text": [
      "[array([[1, 2, 3]]), array([[4, 5, 6]]), array([[7, 8, 9]])]\n",
      "[[1 2 3]]\n",
      "[[4 5 6]]\n",
      "[[7 8 9]]\n"
     ]
    }
   ],
   "source": [
    "arr = np.array([[1,2,3], [4,5,6], [7,8,9]])\n",
    "\n",
    "x  = np.array_split(arr,3)\n",
    "\n",
    "print(x)\n",
    "\n",
    "for i in x:\n",
    "    print(i)"
   ]
  },
  {
   "cell_type": "code",
   "execution_count": 75,
   "id": "9eaeb025",
   "metadata": {},
   "outputs": [
    {
     "name": "stdout",
     "output_type": "stream",
     "text": [
      "[array([[1],\n",
      "       [4],\n",
      "       [7]]), array([[2],\n",
      "       [5],\n",
      "       [8]]), array([[3],\n",
      "       [6],\n",
      "       [9]])]\n",
      "[[1]\n",
      " [4]\n",
      " [7]]\n",
      "[[2]\n",
      " [5]\n",
      " [8]]\n",
      "[[3]\n",
      " [6]\n",
      " [9]]\n"
     ]
    }
   ],
   "source": [
    "arr = np.array([[1,2,3], [4,5,6], [7,8,9]])\n",
    "\n",
    "x  = np.array_split(arr,3,axis=1)\n",
    "\n",
    "print(x)\n",
    "\n",
    "for i in x:\n",
    "    print(i)"
   ]
  },
  {
   "cell_type": "code",
   "execution_count": null,
   "id": "2d5519bb",
   "metadata": {},
   "outputs": [],
   "source": []
  }
 ],
 "metadata": {
  "kernelspec": {
   "display_name": "Python 3",
   "language": "python",
   "name": "python3"
  },
  "language_info": {
   "codemirror_mode": {
    "name": "ipython",
    "version": 3
   },
   "file_extension": ".py",
   "mimetype": "text/x-python",
   "name": "python",
   "nbconvert_exporter": "python",
   "pygments_lexer": "ipython3",
   "version": "3.13.3"
  }
 },
 "nbformat": 4,
 "nbformat_minor": 5
}
