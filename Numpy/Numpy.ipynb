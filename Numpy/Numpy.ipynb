{
 "cells": [
  {
   "cell_type": "code",
   "execution_count": 2,
   "id": "bfd84e0a",
   "metadata": {},
   "outputs": [],
   "source": [
    "import numpy as np"
   ]
  },
  {
   "cell_type": "code",
   "execution_count": 4,
   "id": "0d5f0e83",
   "metadata": {},
   "outputs": [
    {
     "name": "stdout",
     "output_type": "stream",
     "text": [
      "0\n"
     ]
    }
   ],
   "source": [
    "df = np.array(43)\n",
    "\n",
    "print(df.ndim)"
   ]
  },
  {
   "cell_type": "code",
   "execution_count": 7,
   "id": "1fda0b4d",
   "metadata": {},
   "outputs": [
    {
     "name": "stdout",
     "output_type": "stream",
     "text": [
      "1\n"
     ]
    }
   ],
   "source": [
    "df = np.array([43,45])\n",
    "print(df.ndim)"
   ]
  },
  {
   "cell_type": "code",
   "execution_count": 12,
   "id": "9c9e086c",
   "metadata": {},
   "outputs": [
    {
     "name": "stdout",
     "output_type": "stream",
     "text": [
      "2\n"
     ]
    }
   ],
   "source": [
    "df  = np.array([[1,2,3],[1,4,5],[7,8,9]])\n",
    "print(df.ndim)"
   ]
  },
  {
   "cell_type": "markdown",
   "id": "af7ad555",
   "metadata": {},
   "source": [
    "The total opening [ brackets before any value appears is the total dimension of the array"
   ]
  },
  {
   "cell_type": "code",
   "execution_count": 14,
   "id": "b9282581",
   "metadata": {},
   "outputs": [
    {
     "name": "stdout",
     "output_type": "stream",
     "text": [
      "4\n"
     ]
    }
   ],
   "source": [
    "df = np.array([[[[45],[46],[47]]]])\n",
    "print(df.ndim)"
   ]
  },
  {
   "cell_type": "markdown",
   "id": "f0e59302",
   "metadata": {},
   "source": [
    "ndmin is used to change the dimension of an array"
   ]
  },
  {
   "cell_type": "code",
   "execution_count": 16,
   "id": "ddea256b",
   "metadata": {},
   "outputs": [
    {
     "name": "stdout",
     "output_type": "stream",
     "text": [
      "[[[[[[[[[[[[[[[32  2 45]\n",
      "              [54  3 23]]]]]]]]]]]]]]]\n"
     ]
    },
    {
     "data": {
      "text/plain": [
       "15"
      ]
     },
     "execution_count": 16,
     "metadata": {},
     "output_type": "execute_result"
    }
   ],
   "source": [
    "x = [[32,2,45], [54,3,23]]\n",
    "y = np.array(x, ndmin=15)\n",
    "\n",
    "print(y)\n",
    "\n",
    "y.ndim"
   ]
  },
  {
   "cell_type": "code",
   "execution_count": 19,
   "id": "2fc1bc93",
   "metadata": {},
   "outputs": [
    {
     "name": "stdout",
     "output_type": "stream",
     "text": [
      "hello 26\n"
     ]
    }
   ],
   "source": [
    "x  = np.array(['hello ', 26, 'world'])\n",
    "\n",
    "print(x[0] + x[1])"
   ]
  },
  {
   "cell_type": "code",
   "execution_count": 22,
   "id": "fdb89baa",
   "metadata": {},
   "outputs": [
    {
     "name": "stdout",
     "output_type": "stream",
     "text": [
      "76\n"
     ]
    }
   ],
   "source": [
    "x = [[23,44,2],[34,12,76]]\n",
    "\n",
    "y =np.array(x)\n",
    "\n",
    "print(y[1,2])"
   ]
  },
  {
   "cell_type": "code",
   "execution_count": 33,
   "id": "b3ba6bda",
   "metadata": {},
   "outputs": [
    {
     "name": "stdout",
     "output_type": "stream",
     "text": [
      "87\n"
     ]
    }
   ],
   "source": [
    "y =np.array([[[[23,34,2],[34,12,76],[78,45,65],[90,43,87]]]])\n",
    "\n",
    "print(y[0,0,3, 2])"
   ]
  },
  {
   "cell_type": "code",
   "execution_count": 70,
   "id": "445dc8c4",
   "metadata": {},
   "outputs": [
    {
     "name": "stdout",
     "output_type": "stream",
     "text": [
      "87\n",
      "9\n"
     ]
    }
   ],
   "source": [
    "y =np.array([[[[[[[[[23,34,2]]],[[[34,12,76]]],[[[78,45,65]]],[[[90,43,87]]]]]]]]])\n",
    "\n",
    "print(y[0,0,0,0,0,3,0,0,2])\n",
    "\n",
    "print(y.ndim)\n"
   ]
  },
  {
   "cell_type": "code",
   "execution_count": 78,
   "id": "193650d8",
   "metadata": {},
   "outputs": [
    {
     "name": "stdout",
     "output_type": "stream",
     "text": [
      "hell world\n"
     ]
    }
   ],
   "source": [
    "x = (\"hello world\")\n",
    "\n",
    "df  = len(x)\n",
    "\n",
    "print(x[0:4], x[6:df])\n"
   ]
  },
  {
   "cell_type": "code",
   "execution_count": 79,
   "id": "f560c685",
   "metadata": {},
   "outputs": [
    {
     "name": "stdout",
     "output_type": "stream",
     "text": [
      "[24]\n"
     ]
    }
   ],
   "source": [
    "df  = np.array([23,34,12,24,45])\n",
    "\n",
    "print(df[3:4])"
   ]
  },
  {
   "cell_type": "code",
   "execution_count": null,
   "id": "2ac77c10",
   "metadata": {},
   "outputs": [
    {
     "name": "stdout",
     "output_type": "stream",
     "text": [
      "[34 12 24]\n"
     ]
    }
   ],
   "source": [
    "df  = np.array([23,34,12,24,45,78,44])\n",
    "\n",
    "print(df[1:4:1]) #Start Stop Step"
   ]
  },
  {
   "cell_type": "code",
   "execution_count": 82,
   "id": "c8a2fc11",
   "metadata": {},
   "outputs": [
    {
     "name": "stdout",
     "output_type": "stream",
     "text": [
      "1\n",
      "3\n",
      "5\n",
      "7\n",
      "9\n"
     ]
    }
   ],
   "source": [
    "for i in range(1,11,2):\n",
    "    print(i)"
   ]
  }
 ],
 "metadata": {
  "kernelspec": {
   "display_name": "Python 3",
   "language": "python",
   "name": "python3"
  },
  "language_info": {
   "codemirror_mode": {
    "name": "ipython",
    "version": 3
   },
   "file_extension": ".py",
   "mimetype": "text/x-python",
   "name": "python",
   "nbconvert_exporter": "python",
   "pygments_lexer": "ipython3",
   "version": "3.13.3"
  }
 },
 "nbformat": 4,
 "nbformat_minor": 5
}
